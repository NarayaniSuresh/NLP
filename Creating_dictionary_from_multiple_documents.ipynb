{
  "nbformat": 4,
  "nbformat_minor": 0,
  "metadata": {
    "colab": {
      "provenance": [],
      "authorship_tag": "ABX9TyPmu2lW9bhGOZAlg0OmMX/a",
      "include_colab_link": true
    },
    "kernelspec": {
      "name": "python3",
      "display_name": "Python 3"
    },
    "language_info": {
      "name": "python"
    }
  },
  "cells": [
    {
      "cell_type": "markdown",
      "metadata": {
        "id": "view-in-github",
        "colab_type": "text"
      },
      "source": [
        "<a href=\"https://colab.research.google.com/github/NarayaniSuresh/NLP/blob/main/Creating_dictionary_from_multiple_documents.ipynb\" target=\"_parent\"><img src=\"https://colab.research.google.com/assets/colab-badge.svg\" alt=\"Open In Colab\"/></a>"
      ]
    },
    {
      "cell_type": "code",
      "execution_count": null,
      "metadata": {
        "id": "D23gA2VCfH9a"
      },
      "outputs": [],
      "source": [
        "para1='''scikit-learn is largely written in Python, and uses NumPy extensively for high-performance linear algebra and array operations. Furthermore, some core algorithms are written in Cython to improve performance. Support vector machines are implemented by a Cython wrapper around LIBSVM; logistic regression and linear support vector machines by a similar wrapper around LIBLINEAR. In such cases, extending these methods with Python may not be possible.\n",
        "scikit-learn integrates well with many other Python libraries, such as Matplotlib and plotly for plotting, NumPy for array vectorization, Pandas dataframes, SciPy, and many more.'''\n",
        "\n",
        "para2= '''We present iNLTK, an open-source NLP library consisting of pre-trained language models and out-of-the-box support for Data Augmentation, Textual Similarity, Sentence Embeddings, Word Embeddings, Tokenization and Text Generation in 13 Indic Languages. By using pre-trained models from iNLTK for text classification on publicly available datasets, we significantly outperform previously reported results. On these datasets, we also show that by using pre-trained models and data augmentation from iNLTK, we can achieve more than 95% of the previous best performance by using less than 10% of the training data. iNLTK is already being widely used by the community and has 40,000+ downloads, 600+ stars and 100+ forks on GitHub. '''\n",
        "\n",
        "para3='''The Natural Language Toolkit, or more commonly NLTK, is a suite of libraries and programs for symbolic and statistical natural language processing (NLP) for English written in the Python programming language. It supports classification, tokenization, stemming, tagging, parsing, and semantic reasoning functionalities.[4] It was developed by Steven Bird and Edward Loper in the Department of Computer and Information Science at the University of Pennsylvania.[5] NLTK includes graphical demonstrations and sample data. It is accompanied by a book that explains the underlying concepts behind the language processing tasks supported by the toolkit,[6] plus a cookbook.'''"
      ]
    },
    {
      "cell_type": "code",
      "source": [
        "import nltk\n",
        "nltk.download('punkt')\n",
        "from nltk.tokenize import sent_tokenize,word_tokenize"
      ],
      "metadata": {
        "colab": {
          "base_uri": "https://localhost:8080/"
        },
        "id": "b4b7Qw_GkBO_",
        "outputId": "f0a5c9fb-3fb0-4dcb-c1aa-153e91548924"
      },
      "execution_count": null,
      "outputs": [
        {
          "output_type": "stream",
          "name": "stderr",
          "text": [
            "[nltk_data] Downloading package punkt to /root/nltk_data...\n",
            "[nltk_data]   Unzipping tokenizers/punkt.zip.\n"
          ]
        }
      ]
    },
    {
      "cell_type": "code",
      "source": [
        "para11=para1.split()\n",
        "para22=para2.split()\n",
        "para33=para3.split()\n",
        "total_tokens=[]\n",
        "for i in para11:\n",
        "      print(i)\n",
        "      total_tokens.append(i)\n",
        "for j in para22:\n",
        "      total_tokens.append(j)\n",
        "for k in para33:\n",
        "      total_tokens.append(k)\n"
      ],
      "metadata": {
        "colab": {
          "base_uri": "https://localhost:8080/"
        },
        "id": "8GHk6MrHkDk0",
        "outputId": "82ba8599-219c-4ba3-94fe-dd9ca9eeec6d"
      },
      "execution_count": null,
      "outputs": [
        {
          "output_type": "stream",
          "name": "stdout",
          "text": [
            "scikit-learn\n",
            "is\n",
            "largely\n",
            "written\n",
            "in\n",
            "Python,\n",
            "and\n",
            "uses\n",
            "NumPy\n",
            "extensively\n",
            "for\n",
            "high-performance\n",
            "linear\n",
            "algebra\n",
            "and\n",
            "array\n",
            "operations.\n",
            "Furthermore,\n",
            "some\n",
            "core\n",
            "algorithms\n",
            "are\n",
            "written\n",
            "in\n",
            "Cython\n",
            "to\n",
            "improve\n",
            "performance.\n",
            "Support\n",
            "vector\n",
            "machines\n",
            "are\n",
            "implemented\n",
            "by\n",
            "a\n",
            "Cython\n",
            "wrapper\n",
            "around\n",
            "LIBSVM;\n",
            "logistic\n",
            "regression\n",
            "and\n",
            "linear\n",
            "support\n",
            "vector\n",
            "machines\n",
            "by\n",
            "a\n",
            "similar\n",
            "wrapper\n",
            "around\n",
            "LIBLINEAR.\n",
            "In\n",
            "such\n",
            "cases,\n",
            "extending\n",
            "these\n",
            "methods\n",
            "with\n",
            "Python\n",
            "may\n",
            "not\n",
            "be\n",
            "possible.\n",
            "scikit-learn\n",
            "integrates\n",
            "well\n",
            "with\n",
            "many\n",
            "other\n",
            "Python\n",
            "libraries,\n",
            "such\n",
            "as\n",
            "Matplotlib\n",
            "and\n",
            "plotly\n",
            "for\n",
            "plotting,\n",
            "NumPy\n",
            "for\n",
            "array\n",
            "vectorization,\n",
            "Pandas\n",
            "dataframes,\n",
            "SciPy,\n",
            "and\n",
            "many\n",
            "more.\n"
          ]
        }
      ]
    },
    {
      "cell_type": "code",
      "source": [
        "print(total_tokens)"
      ],
      "metadata": {
        "colab": {
          "base_uri": "https://localhost:8080/"
        },
        "id": "fRS3hAofkHSe",
        "outputId": "51a4ae94-7c2c-4bd2-a8b4-26dcf12bf061"
      },
      "execution_count": null,
      "outputs": [
        {
          "output_type": "stream",
          "name": "stdout",
          "text": [
            "['scikit-learn', 'is', 'largely', 'written', 'in', 'Python,', 'and', 'uses', 'NumPy', 'extensively', 'for', 'high-performance', 'linear', 'algebra', 'and', 'array', 'operations.', 'Furthermore,', 'some', 'core', 'algorithms', 'are', 'written', 'in', 'Cython', 'to', 'improve', 'performance.', 'Support', 'vector', 'machines', 'are', 'implemented', 'by', 'a', 'Cython', 'wrapper', 'around', 'LIBSVM;', 'logistic', 'regression', 'and', 'linear', 'support', 'vector', 'machines', 'by', 'a', 'similar', 'wrapper', 'around', 'LIBLINEAR.', 'In', 'such', 'cases,', 'extending', 'these', 'methods', 'with', 'Python', 'may', 'not', 'be', 'possible.', 'scikit-learn', 'integrates', 'well', 'with', 'many', 'other', 'Python', 'libraries,', 'such', 'as', 'Matplotlib', 'and', 'plotly', 'for', 'plotting,', 'NumPy', 'for', 'array', 'vectorization,', 'Pandas', 'dataframes,', 'SciPy,', 'and', 'many', 'more.', 'We', 'present', 'iNLTK,', 'an', 'open-source', 'NLP', 'library', 'consisting', 'of', 'pre-trained', 'language', 'models', 'and', 'out-of-the-box', 'support', 'for', 'Data', 'Augmentation,', 'Textual', 'Similarity,', 'Sentence', 'Embeddings,', 'Word', 'Embeddings,', 'Tokenization', 'and', 'Text', 'Generation', 'in', '13', 'Indic', 'Languages.', 'By', 'using', 'pre-trained', 'models', 'from', 'iNLTK', 'for', 'text', 'classification', 'on', 'publicly', 'available', 'datasets,', 'we', 'significantly', 'outperform', 'previously', 'reported', 'results.', 'On', 'these', 'datasets,', 'we', 'also', 'show', 'that', 'by', 'using', 'pre-trained', 'models', 'and', 'data', 'augmentation', 'from', 'iNLTK,', 'we', 'can', 'achieve', 'more', 'than', '95%', 'of', 'the', 'previous', 'best', 'performance', 'by', 'using', 'less', 'than', '10%', 'of', 'the', 'training', 'data.', 'iNLTK', 'is', 'already', 'being', 'widely', 'used', 'by', 'the', 'community', 'and', 'has', '40,000+', 'downloads,', '600+', 'stars', 'and', '100+', 'forks', 'on', 'GitHub.', 'The', 'Natural', 'Language', 'Toolkit,', 'or', 'more', 'commonly', 'NLTK,', 'is', 'a', 'suite', 'of', 'libraries', 'and', 'programs', 'for', 'symbolic', 'and', 'statistical', 'natural', 'language', 'processing', '(NLP)', 'for', 'English', 'written', 'in', 'the', 'Python', 'programming', 'language.', 'It', 'supports', 'classification,', 'tokenization,', 'stemming,', 'tagging,', 'parsing,', 'and', 'semantic', 'reasoning', 'functionalities.[4]', 'It', 'was', 'developed', 'by', 'Steven', 'Bird', 'and', 'Edward', 'Loper', 'in', 'the', 'Department', 'of', 'Computer', 'and', 'Information', 'Science', 'at', 'the', 'University', 'of', 'Pennsylvania.[5]', 'NLTK', 'includes', 'graphical', 'demonstrations', 'and', 'sample', 'data.', 'It', 'is', 'accompanied', 'by', 'a', 'book', 'that', 'explains', 'the', 'underlying', 'concepts', 'behind', 'the', 'language', 'processing', 'tasks', 'supported', 'by', 'the', 'toolkit,[6]', 'plus', 'a', 'cookbook.']\n"
          ]
        }
      ]
    },
    {
      "cell_type": "code",
      "source": [
        "dictionary_word=set(total_tokens)"
      ],
      "metadata": {
        "id": "HkjydBo5kLV-"
      },
      "execution_count": null,
      "outputs": []
    },
    {
      "cell_type": "code",
      "source": [
        "para=para1+para2+para3\n",
        "para0=word_tokenize(para)"
      ],
      "metadata": {
        "id": "-kbf2d2akQTA"
      },
      "execution_count": null,
      "outputs": []
    },
    {
      "cell_type": "code",
      "source": [
        "set(para0)#dictionary"
      ],
      "metadata": {
        "id": "9bkEBREkkRp6",
        "outputId": "904b5e16-f493-40cd-b78d-142686ce0b22",
        "colab": {
          "base_uri": "https://localhost:8080/"
        }
      },
      "execution_count": null,
      "outputs": [
        {
          "output_type": "execute_result",
          "data": {
            "text/plain": [
              "{'%',\n",
              " '(',\n",
              " ')',\n",
              " ',',\n",
              " '.',\n",
              " '10',\n",
              " '100+',\n",
              " '13',\n",
              " '4',\n",
              " '40,000+',\n",
              " '5',\n",
              " '6',\n",
              " '600+',\n",
              " '95',\n",
              " ';',\n",
              " 'Augmentation',\n",
              " 'Bird',\n",
              " 'By',\n",
              " 'Computer',\n",
              " 'Cython',\n",
              " 'Data',\n",
              " 'Department',\n",
              " 'Edward',\n",
              " 'Embeddings',\n",
              " 'English',\n",
              " 'Furthermore',\n",
              " 'Generation',\n",
              " 'GitHub',\n",
              " 'In',\n",
              " 'Indic',\n",
              " 'Information',\n",
              " 'It',\n",
              " 'LIBLINEAR',\n",
              " 'LIBSVM',\n",
              " 'Language',\n",
              " 'Languages',\n",
              " 'Loper',\n",
              " 'Matplotlib',\n",
              " 'NLP',\n",
              " 'NLTK',\n",
              " 'Natural',\n",
              " 'NumPy',\n",
              " 'On',\n",
              " 'Pandas',\n",
              " 'Pennsylvania',\n",
              " 'Python',\n",
              " 'SciPy',\n",
              " 'Science',\n",
              " 'Sentence',\n",
              " 'Similarity',\n",
              " 'Steven',\n",
              " 'Support',\n",
              " 'Text',\n",
              " 'Textual',\n",
              " 'The',\n",
              " 'Tokenization',\n",
              " 'Toolkit',\n",
              " 'University',\n",
              " 'Word',\n",
              " '[',\n",
              " ']',\n",
              " 'a',\n",
              " 'accompanied',\n",
              " 'achieve',\n",
              " 'algebra',\n",
              " 'algorithms',\n",
              " 'already',\n",
              " 'also',\n",
              " 'an',\n",
              " 'and',\n",
              " 'are',\n",
              " 'around',\n",
              " 'array',\n",
              " 'as',\n",
              " 'at',\n",
              " 'augmentation',\n",
              " 'available',\n",
              " 'be',\n",
              " 'behind',\n",
              " 'being',\n",
              " 'best',\n",
              " 'book',\n",
              " 'by',\n",
              " 'can',\n",
              " 'cases',\n",
              " 'classification',\n",
              " 'commonly',\n",
              " 'community',\n",
              " 'concepts',\n",
              " 'consisting',\n",
              " 'cookbook',\n",
              " 'core',\n",
              " 'data',\n",
              " 'dataframes',\n",
              " 'datasets',\n",
              " 'demonstrations',\n",
              " 'developed',\n",
              " 'downloads',\n",
              " 'explains',\n",
              " 'extending',\n",
              " 'extensively',\n",
              " 'for',\n",
              " 'forks',\n",
              " 'from',\n",
              " 'functionalities',\n",
              " 'graphical',\n",
              " 'has',\n",
              " 'high-performance',\n",
              " 'iNLTK',\n",
              " 'implemented',\n",
              " 'improve',\n",
              " 'in',\n",
              " 'includes',\n",
              " 'integrates',\n",
              " 'is',\n",
              " 'language',\n",
              " 'largely',\n",
              " 'less',\n",
              " 'libraries',\n",
              " 'library',\n",
              " 'linear',\n",
              " 'logistic',\n",
              " 'machines',\n",
              " 'many',\n",
              " 'may',\n",
              " 'methods',\n",
              " 'models',\n",
              " 'more',\n",
              " 'more.We',\n",
              " 'natural',\n",
              " 'not',\n",
              " 'of',\n",
              " 'on',\n",
              " 'open-source',\n",
              " 'operations',\n",
              " 'or',\n",
              " 'other',\n",
              " 'out-of-the-box',\n",
              " 'outperform',\n",
              " 'parsing',\n",
              " 'performance',\n",
              " 'plotly',\n",
              " 'plotting',\n",
              " 'plus',\n",
              " 'possible',\n",
              " 'pre-trained',\n",
              " 'present',\n",
              " 'previous',\n",
              " 'previously',\n",
              " 'processing',\n",
              " 'programming',\n",
              " 'programs',\n",
              " 'publicly',\n",
              " 'reasoning',\n",
              " 'regression',\n",
              " 'reported',\n",
              " 'results',\n",
              " 'sample',\n",
              " 'scikit-learn',\n",
              " 'semantic',\n",
              " 'show',\n",
              " 'significantly',\n",
              " 'similar',\n",
              " 'some',\n",
              " 'stars',\n",
              " 'statistical',\n",
              " 'stemming',\n",
              " 'such',\n",
              " 'suite',\n",
              " 'support',\n",
              " 'supported',\n",
              " 'supports',\n",
              " 'symbolic',\n",
              " 'tagging',\n",
              " 'tasks',\n",
              " 'text',\n",
              " 'than',\n",
              " 'that',\n",
              " 'the',\n",
              " 'these',\n",
              " 'to',\n",
              " 'tokenization',\n",
              " 'toolkit',\n",
              " 'training',\n",
              " 'underlying',\n",
              " 'used',\n",
              " 'uses',\n",
              " 'using',\n",
              " 'vector',\n",
              " 'vectorization',\n",
              " 'was',\n",
              " 'we',\n",
              " 'well',\n",
              " 'widely',\n",
              " 'with',\n",
              " 'wrapper',\n",
              " 'written'}"
            ]
          },
          "metadata": {},
          "execution_count": 7
        }
      ]
    }
  ]
}